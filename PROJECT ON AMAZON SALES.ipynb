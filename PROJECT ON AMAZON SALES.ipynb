{
 "cells": [
  {
   "cell_type": "code",
   "execution_count": 1,
   "id": "f3fd60ed-fec4-460e-ba3b-7ad5479d2b93",
   "metadata": {},
   "outputs": [],
   "source": [
    "import pandas as pd"
   ]
  },
  {
   "cell_type": "code",
   "execution_count": 2,
   "id": "872d5598-449f-4f5c-aecc-35e8b901a8c6",
   "metadata": {
    "scrolled": true
   },
   "outputs": [
    {
     "data": {
      "text/html": [
       "<div>\n",
       "<style scoped>\n",
       "    .dataframe tbody tr th:only-of-type {\n",
       "        vertical-align: middle;\n",
       "    }\n",
       "\n",
       "    .dataframe tbody tr th {\n",
       "        vertical-align: top;\n",
       "    }\n",
       "\n",
       "    .dataframe thead th {\n",
       "        text-align: right;\n",
       "    }\n",
       "</style>\n",
       "<table border=\"1\" class=\"dataframe\">\n",
       "  <thead>\n",
       "    <tr style=\"text-align: right;\">\n",
       "      <th></th>\n",
       "      <th>Order ID</th>\n",
       "      <th>Date</th>\n",
       "      <th>Product</th>\n",
       "      <th>Category</th>\n",
       "      <th>Price</th>\n",
       "      <th>Quantity</th>\n",
       "      <th>Total Sales</th>\n",
       "      <th>Customer Name</th>\n",
       "      <th>Customer Location</th>\n",
       "      <th>Payment Method</th>\n",
       "      <th>Status</th>\n",
       "    </tr>\n",
       "  </thead>\n",
       "  <tbody>\n",
       "    <tr>\n",
       "      <th>0</th>\n",
       "      <td>ORD0001</td>\n",
       "      <td>14-03-25</td>\n",
       "      <td>Running Shoes</td>\n",
       "      <td>Footwear</td>\n",
       "      <td>60</td>\n",
       "      <td>3</td>\n",
       "      <td>180</td>\n",
       "      <td>Emma Clark</td>\n",
       "      <td>New York</td>\n",
       "      <td>Debit Card</td>\n",
       "      <td>Cancelled</td>\n",
       "    </tr>\n",
       "    <tr>\n",
       "      <th>1</th>\n",
       "      <td>ORD0002</td>\n",
       "      <td>20-03-25</td>\n",
       "      <td>Headphones</td>\n",
       "      <td>Electronics</td>\n",
       "      <td>100</td>\n",
       "      <td>4</td>\n",
       "      <td>400</td>\n",
       "      <td>Emily Johnson</td>\n",
       "      <td>San Francisco</td>\n",
       "      <td>Debit Card</td>\n",
       "      <td>Pending</td>\n",
       "    </tr>\n",
       "    <tr>\n",
       "      <th>2</th>\n",
       "      <td>ORD0003</td>\n",
       "      <td>15-02-25</td>\n",
       "      <td>Running Shoes</td>\n",
       "      <td>Footwear</td>\n",
       "      <td>60</td>\n",
       "      <td>2</td>\n",
       "      <td>120</td>\n",
       "      <td>John Doe</td>\n",
       "      <td>Denver</td>\n",
       "      <td>Amazon Pay</td>\n",
       "      <td>Cancelled</td>\n",
       "    </tr>\n",
       "    <tr>\n",
       "      <th>3</th>\n",
       "      <td>ORD0004</td>\n",
       "      <td>19-02-25</td>\n",
       "      <td>Running Shoes</td>\n",
       "      <td>Footwear</td>\n",
       "      <td>60</td>\n",
       "      <td>3</td>\n",
       "      <td>180</td>\n",
       "      <td>Olivia Wilson</td>\n",
       "      <td>Dallas</td>\n",
       "      <td>Credit Card</td>\n",
       "      <td>Pending</td>\n",
       "    </tr>\n",
       "    <tr>\n",
       "      <th>4</th>\n",
       "      <td>ORD0005</td>\n",
       "      <td>2025-10-03 00:00:00</td>\n",
       "      <td>Smartwatch</td>\n",
       "      <td>Electronics</td>\n",
       "      <td>150</td>\n",
       "      <td>3</td>\n",
       "      <td>450</td>\n",
       "      <td>Emma Clark</td>\n",
       "      <td>New York</td>\n",
       "      <td>Debit Card</td>\n",
       "      <td>Pending</td>\n",
       "    </tr>\n",
       "    <tr>\n",
       "      <th>...</th>\n",
       "      <td>...</td>\n",
       "      <td>...</td>\n",
       "      <td>...</td>\n",
       "      <td>...</td>\n",
       "      <td>...</td>\n",
       "      <td>...</td>\n",
       "      <td>...</td>\n",
       "      <td>...</td>\n",
       "      <td>...</td>\n",
       "      <td>...</td>\n",
       "      <td>...</td>\n",
       "    </tr>\n",
       "    <tr>\n",
       "      <th>245</th>\n",
       "      <td>ORD0246</td>\n",
       "      <td>17-03-25</td>\n",
       "      <td>T-Shirt</td>\n",
       "      <td>Clothing</td>\n",
       "      <td>20</td>\n",
       "      <td>2</td>\n",
       "      <td>40</td>\n",
       "      <td>Daniel Harris</td>\n",
       "      <td>Miami</td>\n",
       "      <td>Debit Card</td>\n",
       "      <td>Cancelled</td>\n",
       "    </tr>\n",
       "    <tr>\n",
       "      <th>246</th>\n",
       "      <td>ORD0247</td>\n",
       "      <td>30-03-25</td>\n",
       "      <td>Jeans</td>\n",
       "      <td>Clothing</td>\n",
       "      <td>40</td>\n",
       "      <td>1</td>\n",
       "      <td>40</td>\n",
       "      <td>Sophia Miller</td>\n",
       "      <td>Dallas</td>\n",
       "      <td>Debit Card</td>\n",
       "      <td>Cancelled</td>\n",
       "    </tr>\n",
       "    <tr>\n",
       "      <th>247</th>\n",
       "      <td>ORD0248</td>\n",
       "      <td>2025-05-03 00:00:00</td>\n",
       "      <td>T-Shirt</td>\n",
       "      <td>Clothing</td>\n",
       "      <td>20</td>\n",
       "      <td>2</td>\n",
       "      <td>40</td>\n",
       "      <td>Chris White</td>\n",
       "      <td>Denver</td>\n",
       "      <td>Debit Card</td>\n",
       "      <td>Cancelled</td>\n",
       "    </tr>\n",
       "    <tr>\n",
       "      <th>248</th>\n",
       "      <td>ORD0249</td>\n",
       "      <td>2025-08-03 00:00:00</td>\n",
       "      <td>Smartwatch</td>\n",
       "      <td>Electronics</td>\n",
       "      <td>150</td>\n",
       "      <td>3</td>\n",
       "      <td>450</td>\n",
       "      <td>Emily Johnson</td>\n",
       "      <td>New York</td>\n",
       "      <td>Debit Card</td>\n",
       "      <td>Cancelled</td>\n",
       "    </tr>\n",
       "    <tr>\n",
       "      <th>249</th>\n",
       "      <td>ORD0250</td>\n",
       "      <td>19-02-25</td>\n",
       "      <td>Smartphone</td>\n",
       "      <td>Electronics</td>\n",
       "      <td>500</td>\n",
       "      <td>4</td>\n",
       "      <td>2000</td>\n",
       "      <td>Emily Johnson</td>\n",
       "      <td>Seattle</td>\n",
       "      <td>Amazon Pay</td>\n",
       "      <td>Completed</td>\n",
       "    </tr>\n",
       "  </tbody>\n",
       "</table>\n",
       "<p>250 rows × 11 columns</p>\n",
       "</div>"
      ],
      "text/plain": [
       "    Order ID                 Date        Product     Category  Price  \\\n",
       "0    ORD0001             14-03-25  Running Shoes     Footwear     60   \n",
       "1    ORD0002             20-03-25     Headphones  Electronics    100   \n",
       "2    ORD0003             15-02-25  Running Shoes     Footwear     60   \n",
       "3    ORD0004             19-02-25  Running Shoes     Footwear     60   \n",
       "4    ORD0005  2025-10-03 00:00:00     Smartwatch  Electronics    150   \n",
       "..       ...                  ...            ...          ...    ...   \n",
       "245  ORD0246             17-03-25        T-Shirt     Clothing     20   \n",
       "246  ORD0247             30-03-25          Jeans     Clothing     40   \n",
       "247  ORD0248  2025-05-03 00:00:00        T-Shirt     Clothing     20   \n",
       "248  ORD0249  2025-08-03 00:00:00     Smartwatch  Electronics    150   \n",
       "249  ORD0250             19-02-25     Smartphone  Electronics    500   \n",
       "\n",
       "     Quantity  Total Sales  Customer Name Customer Location Payment Method  \\\n",
       "0           3          180     Emma Clark          New York     Debit Card   \n",
       "1           4          400  Emily Johnson     San Francisco     Debit Card   \n",
       "2           2          120       John Doe            Denver     Amazon Pay   \n",
       "3           3          180  Olivia Wilson            Dallas    Credit Card   \n",
       "4           3          450     Emma Clark          New York     Debit Card   \n",
       "..        ...          ...            ...               ...            ...   \n",
       "245         2           40  Daniel Harris             Miami     Debit Card   \n",
       "246         1           40  Sophia Miller            Dallas     Debit Card   \n",
       "247         2           40    Chris White            Denver     Debit Card   \n",
       "248         3          450  Emily Johnson          New York     Debit Card   \n",
       "249         4         2000  Emily Johnson           Seattle     Amazon Pay   \n",
       "\n",
       "        Status  \n",
       "0    Cancelled  \n",
       "1      Pending  \n",
       "2    Cancelled  \n",
       "3      Pending  \n",
       "4      Pending  \n",
       "..         ...  \n",
       "245  Cancelled  \n",
       "246  Cancelled  \n",
       "247  Cancelled  \n",
       "248  Cancelled  \n",
       "249  Completed  \n",
       "\n",
       "[250 rows x 11 columns]"
      ]
     },
     "execution_count": 2,
     "metadata": {},
     "output_type": "execute_result"
    }
   ],
   "source": [
    "data=pd.read_excel(\"project amazon_sales_data 2025(AutoRecovered).xlsx\")\n",
    "data"
   ]
  },
  {
   "cell_type": "code",
   "execution_count": 3,
   "id": "bf2cdbd7-3ca0-4d9a-a5ed-386db2d2af70",
   "metadata": {},
   "outputs": [
    {
     "data": {
      "text/plain": [
       "Order ID             0\n",
       "Date                 0\n",
       "Product              0\n",
       "Category             0\n",
       "Price                0\n",
       "Quantity             0\n",
       "Total Sales          0\n",
       "Customer Name        0\n",
       "Customer Location    0\n",
       "Payment Method       0\n",
       "Status               0\n",
       "dtype: int64"
      ]
     },
     "execution_count": 3,
     "metadata": {},
     "output_type": "execute_result"
    }
   ],
   "source": [
    "data.isnull().sum()"
   ]
  },
  {
   "cell_type": "code",
   "execution_count": 4,
   "id": "559bce72-d019-45ba-88b1-a13440c75b80",
   "metadata": {},
   "outputs": [
    {
     "data": {
      "text/plain": [
       "Order ID             object\n",
       "Date                 object\n",
       "Product              object\n",
       "Category             object\n",
       "Price                 int64\n",
       "Quantity              int64\n",
       "Total Sales           int64\n",
       "Customer Name        object\n",
       "Customer Location    object\n",
       "Payment Method       object\n",
       "Status               object\n",
       "dtype: object"
      ]
     },
     "execution_count": 4,
     "metadata": {},
     "output_type": "execute_result"
    }
   ],
   "source": [
    "data.dtypes"
   ]
  },
  {
   "cell_type": "code",
   "execution_count": 5,
   "id": "72185426-806f-4009-aabd-0db6fec30d28",
   "metadata": {
    "scrolled": true
   },
   "outputs": [
    {
     "data": {
      "text/plain": [
       "Order ID                     object\n",
       "Date                 datetime64[ns]\n",
       "Product                      object\n",
       "Category                     object\n",
       "Price                         int64\n",
       "Quantity                      int64\n",
       "Total Sales                   int64\n",
       "Customer Name                object\n",
       "Customer Location            object\n",
       "Payment Method               object\n",
       "Status                       object\n",
       "dtype: object"
      ]
     },
     "execution_count": 5,
     "metadata": {},
     "output_type": "execute_result"
    }
   ],
   "source": [
    "data['Date'] = pd.to_datetime(data['Date'], format='mixed', dayfirst=False)\n",
    "data.dtypes"
   ]
  },
  {
   "cell_type": "code",
   "execution_count": 6,
   "id": "74da91ef-3b1f-4514-90b7-60e1ca466574",
   "metadata": {},
   "outputs": [
    {
     "data": {
      "text/html": [
       "<div>\n",
       "<style scoped>\n",
       "    .dataframe tbody tr th:only-of-type {\n",
       "        vertical-align: middle;\n",
       "    }\n",
       "\n",
       "    .dataframe tbody tr th {\n",
       "        vertical-align: top;\n",
       "    }\n",
       "\n",
       "    .dataframe thead th {\n",
       "        text-align: right;\n",
       "    }\n",
       "</style>\n",
       "<table border=\"1\" class=\"dataframe\">\n",
       "  <thead>\n",
       "    <tr style=\"text-align: right;\">\n",
       "      <th></th>\n",
       "      <th>Order ID</th>\n",
       "      <th>Date</th>\n",
       "      <th>Product</th>\n",
       "      <th>Category</th>\n",
       "      <th>Price</th>\n",
       "      <th>Quantity</th>\n",
       "      <th>Total Sales</th>\n",
       "      <th>Customer Name</th>\n",
       "      <th>Customer Location</th>\n",
       "      <th>Payment Method</th>\n",
       "      <th>Status</th>\n",
       "    </tr>\n",
       "  </thead>\n",
       "  <tbody>\n",
       "    <tr>\n",
       "      <th>0</th>\n",
       "      <td>ORD0001</td>\n",
       "      <td>2025-03-14</td>\n",
       "      <td>Running Shoes</td>\n",
       "      <td>Footwear</td>\n",
       "      <td>60</td>\n",
       "      <td>3</td>\n",
       "      <td>180</td>\n",
       "      <td>Emma Clark</td>\n",
       "      <td>New York</td>\n",
       "      <td>Debit Card</td>\n",
       "      <td>Cancelled</td>\n",
       "    </tr>\n",
       "    <tr>\n",
       "      <th>1</th>\n",
       "      <td>ORD0002</td>\n",
       "      <td>2025-03-20</td>\n",
       "      <td>Headphones</td>\n",
       "      <td>Electronics</td>\n",
       "      <td>100</td>\n",
       "      <td>4</td>\n",
       "      <td>400</td>\n",
       "      <td>Emily Johnson</td>\n",
       "      <td>San Francisco</td>\n",
       "      <td>Debit Card</td>\n",
       "      <td>Pending</td>\n",
       "    </tr>\n",
       "    <tr>\n",
       "      <th>2</th>\n",
       "      <td>ORD0003</td>\n",
       "      <td>2025-02-15</td>\n",
       "      <td>Running Shoes</td>\n",
       "      <td>Footwear</td>\n",
       "      <td>60</td>\n",
       "      <td>2</td>\n",
       "      <td>120</td>\n",
       "      <td>John Doe</td>\n",
       "      <td>Denver</td>\n",
       "      <td>Amazon Pay</td>\n",
       "      <td>Cancelled</td>\n",
       "    </tr>\n",
       "    <tr>\n",
       "      <th>3</th>\n",
       "      <td>ORD0004</td>\n",
       "      <td>2025-02-19</td>\n",
       "      <td>Running Shoes</td>\n",
       "      <td>Footwear</td>\n",
       "      <td>60</td>\n",
       "      <td>3</td>\n",
       "      <td>180</td>\n",
       "      <td>Olivia Wilson</td>\n",
       "      <td>Dallas</td>\n",
       "      <td>Credit Card</td>\n",
       "      <td>Pending</td>\n",
       "    </tr>\n",
       "    <tr>\n",
       "      <th>4</th>\n",
       "      <td>ORD0005</td>\n",
       "      <td>2025-10-03</td>\n",
       "      <td>Smartwatch</td>\n",
       "      <td>Electronics</td>\n",
       "      <td>150</td>\n",
       "      <td>3</td>\n",
       "      <td>450</td>\n",
       "      <td>Emma Clark</td>\n",
       "      <td>New York</td>\n",
       "      <td>Debit Card</td>\n",
       "      <td>Pending</td>\n",
       "    </tr>\n",
       "    <tr>\n",
       "      <th>...</th>\n",
       "      <td>...</td>\n",
       "      <td>...</td>\n",
       "      <td>...</td>\n",
       "      <td>...</td>\n",
       "      <td>...</td>\n",
       "      <td>...</td>\n",
       "      <td>...</td>\n",
       "      <td>...</td>\n",
       "      <td>...</td>\n",
       "      <td>...</td>\n",
       "      <td>...</td>\n",
       "    </tr>\n",
       "    <tr>\n",
       "      <th>245</th>\n",
       "      <td>ORD0246</td>\n",
       "      <td>2025-03-17</td>\n",
       "      <td>T-Shirt</td>\n",
       "      <td>Clothing</td>\n",
       "      <td>20</td>\n",
       "      <td>2</td>\n",
       "      <td>40</td>\n",
       "      <td>Daniel Harris</td>\n",
       "      <td>Miami</td>\n",
       "      <td>Debit Card</td>\n",
       "      <td>Cancelled</td>\n",
       "    </tr>\n",
       "    <tr>\n",
       "      <th>246</th>\n",
       "      <td>ORD0247</td>\n",
       "      <td>2025-03-30</td>\n",
       "      <td>Jeans</td>\n",
       "      <td>Clothing</td>\n",
       "      <td>40</td>\n",
       "      <td>1</td>\n",
       "      <td>40</td>\n",
       "      <td>Sophia Miller</td>\n",
       "      <td>Dallas</td>\n",
       "      <td>Debit Card</td>\n",
       "      <td>Cancelled</td>\n",
       "    </tr>\n",
       "    <tr>\n",
       "      <th>247</th>\n",
       "      <td>ORD0248</td>\n",
       "      <td>2025-05-03</td>\n",
       "      <td>T-Shirt</td>\n",
       "      <td>Clothing</td>\n",
       "      <td>20</td>\n",
       "      <td>2</td>\n",
       "      <td>40</td>\n",
       "      <td>Chris White</td>\n",
       "      <td>Denver</td>\n",
       "      <td>Debit Card</td>\n",
       "      <td>Cancelled</td>\n",
       "    </tr>\n",
       "    <tr>\n",
       "      <th>248</th>\n",
       "      <td>ORD0249</td>\n",
       "      <td>2025-08-03</td>\n",
       "      <td>Smartwatch</td>\n",
       "      <td>Electronics</td>\n",
       "      <td>150</td>\n",
       "      <td>3</td>\n",
       "      <td>450</td>\n",
       "      <td>Emily Johnson</td>\n",
       "      <td>New York</td>\n",
       "      <td>Debit Card</td>\n",
       "      <td>Cancelled</td>\n",
       "    </tr>\n",
       "    <tr>\n",
       "      <th>249</th>\n",
       "      <td>ORD0250</td>\n",
       "      <td>2025-02-19</td>\n",
       "      <td>Smartphone</td>\n",
       "      <td>Electronics</td>\n",
       "      <td>500</td>\n",
       "      <td>4</td>\n",
       "      <td>2000</td>\n",
       "      <td>Emily Johnson</td>\n",
       "      <td>Seattle</td>\n",
       "      <td>Amazon Pay</td>\n",
       "      <td>Completed</td>\n",
       "    </tr>\n",
       "  </tbody>\n",
       "</table>\n",
       "<p>250 rows × 11 columns</p>\n",
       "</div>"
      ],
      "text/plain": [
       "    Order ID       Date        Product     Category  Price  Quantity  \\\n",
       "0    ORD0001 2025-03-14  Running Shoes     Footwear     60         3   \n",
       "1    ORD0002 2025-03-20     Headphones  Electronics    100         4   \n",
       "2    ORD0003 2025-02-15  Running Shoes     Footwear     60         2   \n",
       "3    ORD0004 2025-02-19  Running Shoes     Footwear     60         3   \n",
       "4    ORD0005 2025-10-03     Smartwatch  Electronics    150         3   \n",
       "..       ...        ...            ...          ...    ...       ...   \n",
       "245  ORD0246 2025-03-17        T-Shirt     Clothing     20         2   \n",
       "246  ORD0247 2025-03-30          Jeans     Clothing     40         1   \n",
       "247  ORD0248 2025-05-03        T-Shirt     Clothing     20         2   \n",
       "248  ORD0249 2025-08-03     Smartwatch  Electronics    150         3   \n",
       "249  ORD0250 2025-02-19     Smartphone  Electronics    500         4   \n",
       "\n",
       "     Total Sales  Customer Name Customer Location Payment Method     Status  \n",
       "0            180     Emma Clark          New York     Debit Card  Cancelled  \n",
       "1            400  Emily Johnson     San Francisco     Debit Card    Pending  \n",
       "2            120       John Doe            Denver     Amazon Pay  Cancelled  \n",
       "3            180  Olivia Wilson            Dallas    Credit Card    Pending  \n",
       "4            450     Emma Clark          New York     Debit Card    Pending  \n",
       "..           ...            ...               ...            ...        ...  \n",
       "245           40  Daniel Harris             Miami     Debit Card  Cancelled  \n",
       "246           40  Sophia Miller            Dallas     Debit Card  Cancelled  \n",
       "247           40    Chris White            Denver     Debit Card  Cancelled  \n",
       "248          450  Emily Johnson          New York     Debit Card  Cancelled  \n",
       "249         2000  Emily Johnson           Seattle     Amazon Pay  Completed  \n",
       "\n",
       "[250 rows x 11 columns]"
      ]
     },
     "execution_count": 6,
     "metadata": {},
     "output_type": "execute_result"
    }
   ],
   "source": [
    "data"
   ]
  },
  {
   "cell_type": "code",
   "execution_count": 7,
   "id": "913beb6d-0a7e-4c1a-9381-dfffde09d4f5",
   "metadata": {},
   "outputs": [
    {
     "data": {
      "text/plain": [
       "0"
      ]
     },
     "execution_count": 7,
     "metadata": {},
     "output_type": "execute_result"
    }
   ],
   "source": [
    "data.duplicated().sum()"
   ]
  },
  {
   "cell_type": "code",
   "execution_count": 8,
   "id": "4da46545-b87a-47d8-bc31-6b674ce268e0",
   "metadata": {},
   "outputs": [
    {
     "data": {
      "text/plain": [
       "250"
      ]
     },
     "execution_count": 8,
     "metadata": {},
     "output_type": "execute_result"
    }
   ],
   "source": [
    "# 1. What is the total number of orders placed?\n",
    "data['Order ID'].nunique() "
   ]
  },
  {
   "cell_type": "code",
   "execution_count": 9,
   "id": "a9a024a7-bc83-4ec8-ae01-4b70f18bc2a3",
   "metadata": {},
   "outputs": [
    {
     "data": {
      "text/plain": [
       "Product\n",
       "Refrigerator       78000\n",
       "Laptop             58400\n",
       "Smartphone         48500\n",
       "Washing Machine    27000\n",
       "Smartwatch         15750\n",
       "Headphones          7300\n",
       "Running Shoes       4320\n",
       "Jeans               2480\n",
       "T-Shirt             1060\n",
       "Book                1035\n",
       "Name: Total Sales, dtype: int64"
      ]
     },
     "execution_count": 9,
     "metadata": {},
     "output_type": "execute_result"
    }
   ],
   "source": [
    "# 2. Which products have the highest and lowest total sales?\n",
    "total_sales = data.groupby(\"Product\")['Total Sales'].sum().sort_values(ascending=False)\n",
    "total_sales"
   ]
  },
  {
   "cell_type": "code",
   "execution_count": 10,
   "id": "6a5d3ebc-1060-4e8b-991d-792e6304f8f1",
   "metadata": {},
   "outputs": [
    {
     "data": {
      "text/plain": [
       "78000"
      ]
     },
     "execution_count": 10,
     "metadata": {},
     "output_type": "execute_result"
    }
   ],
   "source": [
    "highest_sales = total_sales.max()  # Highest total sales value\n",
    "highest_sales"
   ]
  },
  {
   "cell_type": "code",
   "execution_count": 11,
   "id": "126ad381-090f-48b2-834a-37370617f116",
   "metadata": {},
   "outputs": [
    {
     "data": {
      "text/plain": [
       "1035"
      ]
     },
     "execution_count": 11,
     "metadata": {},
     "output_type": "execute_result"
    }
   ],
   "source": [
    "lowest_sales = total_sales.min()  # Lowest total sales value\n",
    "lowest_sales"
   ]
  },
  {
   "cell_type": "code",
   "execution_count": 12,
   "id": "7a43d67b-0073-4d23-a11a-e8e9b9aec4ec",
   "metadata": {},
   "outputs": [
    {
     "name": "stdout",
     "output_type": "stream",
     "text": [
      "Object `pending` not found.\n"
     ]
    }
   ],
   "source": [
    "3. How many orders were completed, cancelled, or pending?\n"
   ]
  },
  {
   "cell_type": "code",
   "execution_count": 13,
   "id": "8ffd34f9-db62-433f-9179-63a80dafcf24",
   "metadata": {},
   "outputs": [
    {
     "data": {
      "text/plain": [
       "Status\n",
       "Completed    88\n",
       "Pending      85\n",
       "Cancelled    77\n",
       "Name: count, dtype: int64"
      ]
     },
     "execution_count": 13,
     "metadata": {},
     "output_type": "execute_result"
    }
   ],
   "source": [
    "# 3. How many orders were completed, cancelled, or pending?\n",
    "data['Status'].value_counts()"
   ]
  },
  {
   "cell_type": "code",
   "execution_count": 14,
   "id": "172095d7-0cb0-4dad-aa13-eb09008edc20",
   "metadata": {},
   "outputs": [
    {
     "data": {
      "text/plain": [
       "Customer Location\n",
       "Boston     26\n",
       "Chicago    22\n",
       "Dallas     29\n",
       "Denver     26\n",
       "Houston    32\n",
       "dtype: int64"
      ]
     },
     "execution_count": 14,
     "metadata": {},
     "output_type": "execute_result"
    }
   ],
   "source": [
    "# 4. What are the top 5 locations by number of orders?\n",
    "data.groupby('Customer Location').size().head(5)"
   ]
  },
  {
   "cell_type": "code",
   "execution_count": 15,
   "id": "639e2519-41cf-41c9-aab9-03c5163b8928",
   "metadata": {},
   "outputs": [
    {
     "data": {
      "text/plain": [
       "Customer Location\n",
       "Houston     32\n",
       "Miami       31\n",
       "Dallas      29\n",
       "New York    26\n",
       "Denver      26\n",
       "Name: count, dtype: int64"
      ]
     },
     "execution_count": 15,
     "metadata": {},
     "output_type": "execute_result"
    }
   ],
   "source": [
    "data[\"Customer Location\"].value_counts().head(5)"
   ]
  },
  {
   "cell_type": "code",
   "execution_count": 16,
   "id": "9d900684-a980-42de-b8e0-54eca5052e1f",
   "metadata": {},
   "outputs": [
    {
     "data": {
      "text/plain": [
       "Category\n",
       "Books                1035\n",
       "Clothing             3540\n",
       "Electronics        129950\n",
       "Footwear             4320\n",
       "Home Appliances    105000\n",
       "Name: Total Sales, dtype: int64"
      ]
     },
     "execution_count": 16,
     "metadata": {},
     "output_type": "execute_result"
    }
   ],
   "source": [
    "#5. Which category generated the most revenue?\n",
    "Category_Totalrevenue=data.groupby(\"Category\")[\"Total Sales\"].sum()\n",
    "Category_Totalrevenue"
   ]
  },
  {
   "cell_type": "code",
   "execution_count": 17,
   "id": "1f629ac7-d63c-48f2-852a-162b0972e69d",
   "metadata": {},
   "outputs": [
    {
     "data": {
      "text/plain": [
       "'Electronics'"
      ]
     },
     "execution_count": 17,
     "metadata": {},
     "output_type": "execute_result"
    }
   ],
   "source": [
    "Category_Totalrevenue.idxmax()"
   ]
  },
  {
   "cell_type": "code",
   "execution_count": 18,
   "id": "b7c7b89d-0072-4869-9468-cb01092bf9ee",
   "metadata": {},
   "outputs": [],
   "source": [
    "# 6. Create a bar chart of total sales by product.\n",
    "import matplotlib.pyplot as plt"
   ]
  },
  {
   "cell_type": "code",
   "execution_count": 19,
   "id": "cd3aa947-fdaf-41a5-9b07-b1462ba5a746",
   "metadata": {},
   "outputs": [
    {
     "data": {
      "text/plain": [
       "<Axes: xlabel='Product'>"
      ]
     },
     "execution_count": 19,
     "metadata": {},
     "output_type": "execute_result"
    },
    {
     "data": {
      "image/png": "[encoded data removed]",
      "text/plain": [
       "<Figure size 800x500 with 1 Axes>"
      ]
     },
     "metadata": {},
     "output_type": "display_data"
    }
   ],
   "source": [
    "total_sales.plot(kind=\"bar\",color=\"blue\",figsize=(8,5))"
   ]
  },
  {
   "cell_type": "code",
   "execution_count": 20,
   "id": "1d2c21f8-9d7c-4a67-be2a-794d79d4ac89",
   "metadata": {},
   "outputs": [
    {
     "data": {
      "text/plain": [
       "Payment Method\n",
       "PayPal         60\n",
       "Credit Card    54\n",
       "Debit Card     53\n",
       "Gift Card      42\n",
       "Amazon Pay     41\n",
       "Name: count, dtype: int64"
      ]
     },
     "execution_count": 20,
     "metadata": {},
     "output_type": "execute_result"
    }
   ],
   "source": [
    "# 7. Make a pie chart showing order distribution by payment method.\n",
    "Totalorder_paymentmethod= data[\"Payment Method\"].value_counts()\n",
    "Totalorder_paymentmethod"
   ]
  },
  {
   "cell_type": "code",
   "execution_count": 21,
   "id": "69a693f1-1bfb-48da-843e-8c74c78da1ce",
   "metadata": {},
   "outputs": [
    {
     "data": {
      "text/plain": [
       "<Axes: ylabel='count'>"
      ]
     },
     "execution_count": 21,
     "metadata": {},
     "output_type": "execute_result"
    },
    {
     "data": {
      "image/png": "[encoded data removed]",
      "text/plain": [
       "<Figure size 800x500 with 1 Axes>"
      ]
     },
     "metadata": {},
     "output_type": "display_data"
    }
   ],
   "source": [
    "Totalorder_paymentmethod.plot(kind=\"pie\",figsize=(8,5),autopct=\"%1.1f%%\",startangle=90)"
   ]
  },
  {
   "cell_type": "code",
   "execution_count": 22,
   "id": "ecc8e067-d074-48ac-8bac-bf10ca4cff5e",
   "metadata": {},
   "outputs": [
    {
     "data": {
      "text/plain": [
       "Date\n",
       "2025-02-16    9540\n",
       "2025-02-13    4860\n",
       "2025-02-03    4575\n",
       "2025-02-02    3600\n",
       "2025-02-04    3100\n",
       "2025-01-03    1800\n",
       "2025-02-14    1015\n",
       "2025-02-17    1005\n",
       "2025-02-15     520\n",
       "2025-01-04     320\n",
       "Name: Total Sales, dtype: int64"
      ]
     },
     "execution_count": 22,
     "metadata": {},
     "output_type": "execute_result"
    }
   ],
   "source": [
    "#8. Make a Line chart showing the Total sales by date\n",
    "Topsales_bydate=data.groupby(\"Date\")[\"Total Sales\"].sum().head(10).sort_values(ascending=False)\n",
    "Topsales_bydate"
   ]
  },
  {
   "cell_type": "code",
   "execution_count": 23,
   "id": "915392b4-ae26-4e16-94e3-c5eb181c5f2e",
   "metadata": {},
   "outputs": [
    {
     "data": {
      "text/plain": [
       "<Axes: xlabel='Date'>"
      ]
     },
     "execution_count": 23,
     "metadata": {},
     "output_type": "execute_result"
    },
    {
     "data": {
      "image/png": "[encoded data removed]",
      "text/plain": [
       "<Figure size 640x480 with 1 Axes>"
      ]
     },
     "metadata": {},
     "output_type": "display_data"
    }
   ],
   "source": [
    "Topsales_bydate.plot(kind=\"line\",color=\"red\")"
   ]
  },
  {
   "cell_type": "code",
   "execution_count": 24,
   "id": "9d47b0b2-5e75-4333-83fe-38e34c75c22e",
   "metadata": {},
   "outputs": [
    {
     "data": {
      "text/plain": [
       "Product\n",
       "Refrigerator       3250.000000\n",
       "Laptop             2433.333333\n",
       "Washing Machine    1687.500000\n",
       "Smartphone         1385.714286\n",
       "Smartwatch          463.235294\n",
       "Headphones          292.000000\n",
       "Running Shoes       160.000000\n",
       "Jeans               124.000000\n",
       "T-Shirt              53.000000\n",
       "Book                 41.400000\n",
       "Name: Total Sales, dtype: float64"
      ]
     },
     "execution_count": 24,
     "metadata": {},
     "output_type": "execute_result"
    }
   ],
   "source": [
    "# 9. Compare average sales per product using a horizontal bar chart.\n",
    "avg_sales= data.groupby(\"Product\")[\"Total Sales\"].mean().sort_values(ascending=False)\n",
    "avg_sales"
   ]
  },
  {
   "cell_type": "code",
   "execution_count": 25,
   "id": "dd8937d2-90d0-40c8-bd9a-957eb7e0c96b",
   "metadata": {},
   "outputs": [
    {
     "data": {
      "text/plain": [
       "<Axes: ylabel='Product'>"
      ]
     },
     "execution_count": 25,
     "metadata": {},
     "output_type": "execute_result"
    },
    {
     "data": {
      "image/png": "[encoded data removed]",
      "text/plain": [
       "<Figure size 640x480 with 1 Axes>"
      ]
     },
     "metadata": {},
     "output_type": "display_data"
    }
   ],
   "source": [
    "avg_sales.plot(kind=\"barh\",color=\"green\")"
   ]
  },
  {
   "cell_type": "code",
   "execution_count": 26,
   "id": "cbc35361-2573-427b-8c74-bd756b310edd",
   "metadata": {},
   "outputs": [
    {
     "data": {
      "text/html": [
       "<div>\n",
       "<style scoped>\n",
       "    .dataframe tbody tr th:only-of-type {\n",
       "        vertical-align: middle;\n",
       "    }\n",
       "\n",
       "    .dataframe tbody tr th {\n",
       "        vertical-align: top;\n",
       "    }\n",
       "\n",
       "    .dataframe thead th {\n",
       "        text-align: right;\n",
       "    }\n",
       "</style>\n",
       "<table border=\"1\" class=\"dataframe\">\n",
       "  <thead>\n",
       "    <tr style=\"text-align: right;\">\n",
       "      <th>Status</th>\n",
       "      <th>Cancelled</th>\n",
       "      <th>Completed</th>\n",
       "      <th>Pending</th>\n",
       "    </tr>\n",
       "    <tr>\n",
       "      <th>Category</th>\n",
       "      <th></th>\n",
       "      <th></th>\n",
       "      <th></th>\n",
       "    </tr>\n",
       "  </thead>\n",
       "  <tbody>\n",
       "    <tr>\n",
       "      <th>Books</th>\n",
       "      <td>180</td>\n",
       "      <td>210</td>\n",
       "      <td>645</td>\n",
       "    </tr>\n",
       "    <tr>\n",
       "      <th>Clothing</th>\n",
       "      <td>1120</td>\n",
       "      <td>1400</td>\n",
       "      <td>1020</td>\n",
       "    </tr>\n",
       "    <tr>\n",
       "      <th>Electronics</th>\n",
       "      <td>26650</td>\n",
       "      <td>55900</td>\n",
       "      <td>47400</td>\n",
       "    </tr>\n",
       "    <tr>\n",
       "      <th>Footwear</th>\n",
       "      <td>1080</td>\n",
       "      <td>1620</td>\n",
       "      <td>1620</td>\n",
       "    </tr>\n",
       "    <tr>\n",
       "      <th>Home Appliances</th>\n",
       "      <td>36000</td>\n",
       "      <td>29400</td>\n",
       "      <td>39600</td>\n",
       "    </tr>\n",
       "  </tbody>\n",
       "</table>\n",
       "</div>"
      ],
      "text/plain": [
       "Status           Cancelled  Completed  Pending\n",
       "Category                                      \n",
       "Books                  180        210      645\n",
       "Clothing              1120       1400     1020\n",
       "Electronics          26650      55900    47400\n",
       "Footwear              1080       1620     1620\n",
       "Home Appliances      36000      29400    39600"
      ]
     },
     "execution_count": 26,
     "metadata": {},
     "output_type": "execute_result"
    }
   ],
   "source": [
    "pivot_table = pd.pivot_table(\n",
    "    data,\n",
    "    values='Total Sales',\n",
    "    index='Category',\n",
    "    columns='Status',\n",
    "    aggfunc=\"sum\")\n",
    "pivot_table"
   ]
  },
  {
   "cell_type": "code",
   "execution_count": 27,
   "id": "be636f0d-4941-4cd0-8656-b4ae3880eb5b",
   "metadata": {},
   "outputs": [
    {
     "data": {
      "text/plain": [
       "<Axes: xlabel='Status', ylabel='Category'>"
      ]
     },
     "execution_count": 27,
     "metadata": {},
     "output_type": "execute_result"
    },
    {
     "data": {
      "image/png": "[encoded data removed]",
      "text/plain": [
       "<Figure size 800x600 with 2 Axes>"
      ]
     },
     "metadata": {},
     "output_type": "display_data"
    }
   ],
   "source": [
    "import seaborn as sns\n",
    "plt.figure(figsize=(8, 6))\n",
    "sns.heatmap(pivot_table, annot=True, fmt=\".0f\", cmap='RdYlGn')"
   ]
  },
  {
   "cell_type": "code",
   "execution_count": 28,
   "id": "616f513c-e85b-4fc2-88d7-83aa9b12c4b6",
   "metadata": {},
   "outputs": [
    {
     "data": {
      "text/plain": [
       "Customer Name\n",
       "Emma Clark       32\n",
       "Jane Smith       30\n",
       "Olivia Wilson    29\n",
       "John Doe         26\n",
       "David Lee        26\n",
       "Michael Brown    24\n",
       "Daniel Harris    23\n",
       "Emily Johnson    22\n",
       "Chris White      22\n",
       "Sophia Miller    16\n",
       "Name: count, dtype: int64"
      ]
     },
     "execution_count": 28,
     "metadata": {},
     "output_type": "execute_result"
    }
   ],
   "source": [
    "# 11. Which customer made the highest and lowest number of purchases?\n",
    "purchase_counts = data['Customer Name'].value_counts()\n",
    "purchase_counts"
   ]
  },
  {
   "cell_type": "code",
   "execution_count": 29,
   "id": "c14f9db7-752f-491d-b7a5-18724a64148d",
   "metadata": {},
   "outputs": [],
   "source": [
    "Highest_purchase=purchase_counts.idxmax()"
   ]
  },
  {
   "cell_type": "code",
   "execution_count": 30,
   "id": "eabe5982-d929-4a48-b2a9-92ea33a7536b",
   "metadata": {},
   "outputs": [],
   "source": [
    "lowest_purchase=purchase_counts.idxmin()"
   ]
  },
  {
   "cell_type": "code",
   "execution_count": 31,
   "id": "e9f7aead-dd99-45db-bea1-e2a936ddcae6",
   "metadata": {
    "scrolled": true
   },
   "outputs": [
    {
     "data": {
      "text/plain": [
       "Payment Method\n",
       "Amazon Pay      798.8\n",
       "Credit Card    1140.6\n",
       "Debit Card      601.9\n",
       "Gift Card      1141.8\n",
       "PayPal         1160.8\n",
       "Name: Total Sales, dtype: float64"
      ]
     },
     "execution_count": 31,
     "metadata": {},
     "output_type": "execute_result"
    }
   ],
   "source": [
    "# 12. What is the average order value by payment method?\n",
    "Avg_ordervalue=round(data.groupby(\"Payment Method\")[\"Total Sales\"].mean(),1)\n",
    "Avg_ordervalue"
   ]
  },
  {
   "cell_type": "code",
   "execution_count": 32,
   "id": "f6046074-657d-4c24-a30d-7c839a12525b",
   "metadata": {},
   "outputs": [
    {
     "data": {
      "text/html": [
       "<div>\n",
       "<style scoped>\n",
       "    .dataframe tbody tr th:only-of-type {\n",
       "        vertical-align: middle;\n",
       "    }\n",
       "\n",
       "    .dataframe tbody tr th {\n",
       "        vertical-align: top;\n",
       "    }\n",
       "\n",
       "    .dataframe thead th {\n",
       "        text-align: right;\n",
       "    }\n",
       "</style>\n",
       "<table border=\"1\" class=\"dataframe\">\n",
       "  <thead>\n",
       "    <tr style=\"text-align: right;\">\n",
       "      <th></th>\n",
       "      <th>Order ID</th>\n",
       "      <th>Date</th>\n",
       "      <th>Product</th>\n",
       "      <th>Category</th>\n",
       "      <th>Price</th>\n",
       "      <th>Quantity</th>\n",
       "      <th>Total Sales</th>\n",
       "      <th>Customer Name</th>\n",
       "      <th>Customer Location</th>\n",
       "      <th>Payment Method</th>\n",
       "      <th>Status</th>\n",
       "    </tr>\n",
       "  </thead>\n",
       "  <tbody>\n",
       "    <tr>\n",
       "      <th>0</th>\n",
       "      <td>ORD0001</td>\n",
       "      <td>2025-03-14</td>\n",
       "      <td>Running Shoes</td>\n",
       "      <td>Footwear</td>\n",
       "      <td>60</td>\n",
       "      <td>3</td>\n",
       "      <td>180</td>\n",
       "      <td>Emma Clark</td>\n",
       "      <td>New York</td>\n",
       "      <td>Debit Card</td>\n",
       "      <td>Cancelled</td>\n",
       "    </tr>\n",
       "    <tr>\n",
       "      <th>2</th>\n",
       "      <td>ORD0003</td>\n",
       "      <td>2025-02-15</td>\n",
       "      <td>Running Shoes</td>\n",
       "      <td>Footwear</td>\n",
       "      <td>60</td>\n",
       "      <td>2</td>\n",
       "      <td>120</td>\n",
       "      <td>John Doe</td>\n",
       "      <td>Denver</td>\n",
       "      <td>Amazon Pay</td>\n",
       "      <td>Cancelled</td>\n",
       "    </tr>\n",
       "    <tr>\n",
       "      <th>9</th>\n",
       "      <td>ORD0010</td>\n",
       "      <td>2025-12-03</td>\n",
       "      <td>Smartphone</td>\n",
       "      <td>Electronics</td>\n",
       "      <td>500</td>\n",
       "      <td>1</td>\n",
       "      <td>500</td>\n",
       "      <td>Emily Johnson</td>\n",
       "      <td>San Francisco</td>\n",
       "      <td>Credit Card</td>\n",
       "      <td>Cancelled</td>\n",
       "    </tr>\n",
       "    <tr>\n",
       "      <th>13</th>\n",
       "      <td>ORD0014</td>\n",
       "      <td>2025-04-03</td>\n",
       "      <td>Washing Machine</td>\n",
       "      <td>Home Appliances</td>\n",
       "      <td>600</td>\n",
       "      <td>3</td>\n",
       "      <td>1800</td>\n",
       "      <td>Michael Brown</td>\n",
       "      <td>Miami</td>\n",
       "      <td>Credit Card</td>\n",
       "      <td>Cancelled</td>\n",
       "    </tr>\n",
       "    <tr>\n",
       "      <th>15</th>\n",
       "      <td>ORD0016</td>\n",
       "      <td>2025-02-26</td>\n",
       "      <td>Refrigerator</td>\n",
       "      <td>Home Appliances</td>\n",
       "      <td>1200</td>\n",
       "      <td>1</td>\n",
       "      <td>1200</td>\n",
       "      <td>John Doe</td>\n",
       "      <td>Boston</td>\n",
       "      <td>Credit Card</td>\n",
       "      <td>Cancelled</td>\n",
       "    </tr>\n",
       "    <tr>\n",
       "      <th>...</th>\n",
       "      <td>...</td>\n",
       "      <td>...</td>\n",
       "      <td>...</td>\n",
       "      <td>...</td>\n",
       "      <td>...</td>\n",
       "      <td>...</td>\n",
       "      <td>...</td>\n",
       "      <td>...</td>\n",
       "      <td>...</td>\n",
       "      <td>...</td>\n",
       "      <td>...</td>\n",
       "    </tr>\n",
       "    <tr>\n",
       "      <th>244</th>\n",
       "      <td>ORD0245</td>\n",
       "      <td>2025-04-02</td>\n",
       "      <td>Laptop</td>\n",
       "      <td>Electronics</td>\n",
       "      <td>800</td>\n",
       "      <td>1</td>\n",
       "      <td>800</td>\n",
       "      <td>Michael Brown</td>\n",
       "      <td>Los Angeles</td>\n",
       "      <td>Credit Card</td>\n",
       "      <td>Cancelled</td>\n",
       "    </tr>\n",
       "    <tr>\n",
       "      <th>245</th>\n",
       "      <td>ORD0246</td>\n",
       "      <td>2025-03-17</td>\n",
       "      <td>T-Shirt</td>\n",
       "      <td>Clothing</td>\n",
       "      <td>20</td>\n",
       "      <td>2</td>\n",
       "      <td>40</td>\n",
       "      <td>Daniel Harris</td>\n",
       "      <td>Miami</td>\n",
       "      <td>Debit Card</td>\n",
       "      <td>Cancelled</td>\n",
       "    </tr>\n",
       "    <tr>\n",
       "      <th>246</th>\n",
       "      <td>ORD0247</td>\n",
       "      <td>2025-03-30</td>\n",
       "      <td>Jeans</td>\n",
       "      <td>Clothing</td>\n",
       "      <td>40</td>\n",
       "      <td>1</td>\n",
       "      <td>40</td>\n",
       "      <td>Sophia Miller</td>\n",
       "      <td>Dallas</td>\n",
       "      <td>Debit Card</td>\n",
       "      <td>Cancelled</td>\n",
       "    </tr>\n",
       "    <tr>\n",
       "      <th>247</th>\n",
       "      <td>ORD0248</td>\n",
       "      <td>2025-05-03</td>\n",
       "      <td>T-Shirt</td>\n",
       "      <td>Clothing</td>\n",
       "      <td>20</td>\n",
       "      <td>2</td>\n",
       "      <td>40</td>\n",
       "      <td>Chris White</td>\n",
       "      <td>Denver</td>\n",
       "      <td>Debit Card</td>\n",
       "      <td>Cancelled</td>\n",
       "    </tr>\n",
       "    <tr>\n",
       "      <th>248</th>\n",
       "      <td>ORD0249</td>\n",
       "      <td>2025-08-03</td>\n",
       "      <td>Smartwatch</td>\n",
       "      <td>Electronics</td>\n",
       "      <td>150</td>\n",
       "      <td>3</td>\n",
       "      <td>450</td>\n",
       "      <td>Emily Johnson</td>\n",
       "      <td>New York</td>\n",
       "      <td>Debit Card</td>\n",
       "      <td>Cancelled</td>\n",
       "    </tr>\n",
       "  </tbody>\n",
       "</table>\n",
       "<p>77 rows × 11 columns</p>\n",
       "</div>"
      ],
      "text/plain": [
       "    Order ID       Date          Product         Category  Price  Quantity  \\\n",
       "0    ORD0001 2025-03-14    Running Shoes         Footwear     60         3   \n",
       "2    ORD0003 2025-02-15    Running Shoes         Footwear     60         2   \n",
       "9    ORD0010 2025-12-03       Smartphone      Electronics    500         1   \n",
       "13   ORD0014 2025-04-03  Washing Machine  Home Appliances    600         3   \n",
       "15   ORD0016 2025-02-26     Refrigerator  Home Appliances   1200         1   \n",
       "..       ...        ...              ...              ...    ...       ...   \n",
       "244  ORD0245 2025-04-02           Laptop      Electronics    800         1   \n",
       "245  ORD0246 2025-03-17          T-Shirt         Clothing     20         2   \n",
       "246  ORD0247 2025-03-30            Jeans         Clothing     40         1   \n",
       "247  ORD0248 2025-05-03          T-Shirt         Clothing     20         2   \n",
       "248  ORD0249 2025-08-03       Smartwatch      Electronics    150         3   \n",
       "\n",
       "     Total Sales  Customer Name Customer Location Payment Method     Status  \n",
       "0            180     Emma Clark          New York     Debit Card  Cancelled  \n",
       "2            120       John Doe            Denver     Amazon Pay  Cancelled  \n",
       "9            500  Emily Johnson     San Francisco    Credit Card  Cancelled  \n",
       "13          1800  Michael Brown             Miami    Credit Card  Cancelled  \n",
       "15          1200       John Doe            Boston    Credit Card  Cancelled  \n",
       "..           ...            ...               ...            ...        ...  \n",
       "244          800  Michael Brown       Los Angeles    Credit Card  Cancelled  \n",
       "245           40  Daniel Harris             Miami     Debit Card  Cancelled  \n",
       "246           40  Sophia Miller            Dallas     Debit Card  Cancelled  \n",
       "247           40    Chris White            Denver     Debit Card  Cancelled  \n",
       "248          450  Emily Johnson          New York     Debit Card  Cancelled  \n",
       "\n",
       "[77 rows x 11 columns]"
      ]
     },
     "execution_count": 32,
     "metadata": {},
     "output_type": "execute_result"
    }
   ],
   "source": [
    "# 13. What are the top 10 dates with the highest number of order cancellations\n",
    "cancelled_orders = data[data['Status'] == 'Cancelled']\n",
    "cancelled_orders"
   ]
  },
  {
   "cell_type": "code",
   "execution_count": 33,
   "id": "62530a28-ab6b-4054-9fd7-f07907967598",
   "metadata": {},
   "outputs": [
    {
     "data": {
      "text/plain": [
       "Date\n",
       "2025-02-16    4\n",
       "2025-02-20    4\n",
       "2025-02-15    2\n",
       "2025-02-17    2\n",
       "2025-01-04    1\n",
       "2025-02-04    1\n",
       "2025-02-13    1\n",
       "2025-02-14    1\n",
       "2025-02-19    1\n",
       "2025-02-21    1\n",
       "dtype: int64"
      ]
     },
     "execution_count": 33,
     "metadata": {},
     "output_type": "execute_result"
    }
   ],
   "source": [
    "#14 how many orders were cancelled by date?\n",
    "cancelled_orders.groupby(\"Date\").size().head(10).sort_values(ascending=False)"
   ]
  },
  {
   "cell_type": "code",
   "execution_count": 34,
   "id": "7af61417-5b0d-43a6-9372-c404fa25aa09",
   "metadata": {},
   "outputs": [
    {
     "data": {
      "text/plain": [
       "Category\n",
       "Electronics        118\n",
       "Clothing            40\n",
       "Home Appliances     40\n",
       "Footwear            27\n",
       "Books               25\n",
       "Name: Quantity, dtype: int64"
      ]
     },
     "execution_count": 34,
     "metadata": {},
     "output_type": "execute_result"
    }
   ],
   "source": [
    "# 15. How do quantities sold vary across different product categories?\n",
    "data.groupby(\"Category\")[\"Quantity\"].size().sort_values(ascending=False)"
   ]
  },
  {
   "cell_type": "code",
   "execution_count": 35,
   "id": "2e9d03e1-ba8b-4211-9333-ce14005b1b34",
   "metadata": {},
   "outputs": [
    {
     "data": {
      "text/plain": [
       "Customer Name\n",
       "Olivia Wilson    36170\n",
       "Jane Smith       31185\n",
       "Emma Clark       29700\n",
       "John Doe         26870\n",
       "Emily Johnson    23475\n",
       "Name: Total Sales, dtype: int64"
      ]
     },
     "execution_count": 35,
     "metadata": {},
     "output_type": "execute_result"
    }
   ],
   "source": [
    "#16 Who are the top 5 customers by total sales?\n",
    "data.groupby('Customer Name')['Total Sales'].sum().nlargest(5)  "
   ]
  },
  {
   "cell_type": "code",
   "execution_count": 80,
   "id": "2bfd4b8c-3965-420a-951d-1122ea48575a",
   "metadata": {},
   "outputs": [
    {
     "data": {
      "text/plain": [
       "Customer Location\n",
       "Miami            31700\n",
       "Denver           29785\n",
       "Houston          28390\n",
       "Dallas           27145\n",
       "Seattle          26890\n",
       "Boston           26170\n",
       "Chicago          20810\n",
       "New York         18940\n",
       "Los Angeles      17820\n",
       "San Francisco    16195\n",
       "Name: Total Sales, dtype: int64"
      ]
     },
     "execution_count": 80,
     "metadata": {},
     "output_type": "execute_result"
    }
   ],
   "source": [
    "# 17.Using a bar chart to find the top ten locations by total sales.\n",
    "Totalsales_location= data.groupby(\"Customer Location\")[\"Total Sales\"].sum().sort_values(ascending=False)\n",
    "Totalsales_location"
   ]
  },
  {
   "cell_type": "code",
   "execution_count": 84,
   "id": "2a86dfe8-b859-426f-a215-3997a5c58c72",
   "metadata": {},
   "outputs": [
    {
     "data": {
      "text/plain": [
       "<Axes: xlabel='Customer Location'>"
      ]
     },
     "execution_count": 84,
     "metadata": {},
     "output_type": "execute_result"
    },
    {
     "data": {
      "image/png": "[encoded data removed]",
      "text/plain": [
       "<Figure size 640x480 with 1 Axes>"
      ]
     },
     "metadata": {},
     "output_type": "display_data"
    }
   ],
   "source": [
    "\n",
    "Totalsales_location.plot(kind=\"bar\",color=\"red\")"
   ]
  },
  {
   "cell_type": "code",
   "execution_count": null,
   "id": "a0b67dc5-1441-4fd9-81d8-694592fb620e",
   "metadata": {},
   "outputs": [],
   "source": []
  }
 ],
 "metadata": {
  "kernelspec": {
   "display_name": "Python 3 (ipykernel)",
   "language": "python",
   "name": "python3"
  },
  "language_info": {
   "codemirror_mode": {
    "name": "ipython",
    "version": 3
   },
   "file_extension": ".py",
   "mimetype": "text/x-python",
   "name": "python",
   "nbconvert_exporter": "python",
   "pygments_lexer": "ipython3",
   "version": "3.12.4"
  }
 },
 "nbformat": 4,
 "nbformat_minor": 5
}
